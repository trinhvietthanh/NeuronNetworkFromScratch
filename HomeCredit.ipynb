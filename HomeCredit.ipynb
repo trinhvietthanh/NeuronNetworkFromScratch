{
  "cells": [
    {
      "cell_type": "code",
      "execution_count": null,
      "metadata": {
        "id": "7rwEM8B2G35w"
      },
      "outputs": [],
      "source": [
        "import pandas as pd\n",
        "import numpy as np\n",
        "import sklearn\n",
        "import matplotlib.pyplot as plt\n",
        "import os\n",
        "import seaborn as sns"
      ]
    },
    {
      "cell_type": "code",
      "execution_count": null,
      "metadata": {
        "colab": {
          "base_uri": "https://localhost:8080/"
        },
        "id": "GVDQJmrFHMEZ",
        "outputId": "bc0ba3ae-d49a-4199-a161-a82930356dea"
      },
      "outputs": [
        {
          "data": {
            "text/plain": [
              "(307511, 122)"
            ]
          },
          "execution_count": 319,
          "metadata": {},
          "output_type": "execute_result"
        }
      ],
      "source": [
        "#Trainning data\n",
        "app_train = pd.read_csv('/data/application_train.csv')\n",
        "app_train.shape"
      ]
    },
    {
      "cell_type": "code",
      "execution_count": null,
      "metadata": {
        "id": "lIUWXkwEHdM3"
      },
      "outputs": [],
      "source": [
        "app_train.head()"
      ]
    },
    {
      "cell_type": "code",
      "execution_count": null,
      "metadata": {
        "colab": {
          "base_uri": "https://localhost:8080/"
        },
        "id": "-8MStTf1HfPX",
        "outputId": "65e15269-6d0b-45a6-f317-a19b9bca3743"
      },
      "outputs": [
        {
          "name": "stdout",
          "output_type": "stream",
          "text": [
            "Testing data shape:  (48744, 121)\n"
          ]
        }
      ],
      "source": [
        "app_test = pd.read_csv('/data/application_test.csv')\n",
        "print('Testing data shape: ', app_test.shape)\n"
      ]
    },
    {
      "cell_type": "markdown",
      "metadata": {
        "id": "jH4HrZq8OrH7"
      },
      "source": [
        "Imbalanced dataset"
      ]
    },
    {
      "cell_type": "code",
      "execution_count": null,
      "metadata": {
        "colab": {
          "base_uri": "https://localhost:8080/",
          "height": 330
        },
        "id": "Kwc9FwsqHwy-",
        "outputId": "912a7a13-0045-49c4-d221-21ab17d7f0af"
      },
      "outputs": [
        {
          "name": "stdout",
          "output_type": "stream",
          "text": [
            "Repaid: 282686\n",
            "Not repaid: 24825\n",
            "Repaid: 91.93 %\n",
            "Not repaid: 8.07 %\n"
          ]
        },
        {
          "data": {
            "image/png": "[encoded data removed]",
            "text/plain": [
              "<Figure size 432x288 with 1 Axes>"
            ]
          },
          "metadata": {
            "needs_background": "light"
          },
          "output_type": "display_data"
        }
      ],
      "source": [
        "app_train['TARGET'].value_counts().plot.bar()\n",
        "n_group = app_train['TARGET'].value_counts()\n",
        "n_group_sum = n_group.sum()\n",
        "\n",
        "print('Repaid: {}'.format(n_group[0]))\n",
        "print('Not repaid: {}'.format(n_group[1]))\n",
        "\n",
        "print('Repaid: {:.2f} {}'.format(n_group[0]/n_group_sum*100, '%'))\n",
        "print('Not repaid: {:.2f} {}'.format(n_group[1]/n_group_sum*100, '%'))"
      ]
    },
    {
      "cell_type": "code",
      "execution_count": null,
      "metadata": {
        "colab": {
          "base_uri": "https://localhost:8080/",
          "height": 450
        },
        "id": "m8gNjF7sSgv-",
        "outputId": "911ead3f-a999-42bc-d76a-9257a1e40a2f"
      },
      "outputs": [
        {
          "name": "stdout",
          "output_type": "stream",
          "text": [
            "No fields:  307511\n",
            "No missing fields:  64\n"
          ]
        },
        {
          "data": {
            "text/html": [
              "<div>\n",
              "<style scoped>\n",
              "    .dataframe tbody tr th:only-of-type {\n",
              "        vertical-align: middle;\n",
              "    }\n",
              "\n",
              "    .dataframe tbody tr th {\n",
              "        vertical-align: top;\n",
              "    }\n",
              "\n",
              "    .dataframe thead th {\n",
              "        text-align: right;\n",
              "    }\n",
              "</style>\n",
              "<table border=\"1\" class=\"dataframe\">\n",
              "  <thead>\n",
              "    <tr style=\"text-align: right;\">\n",
              "      <th></th>\n",
              "      <th>Number mising Value</th>\n",
              "      <th>Percentage missing Value</th>\n",
              "    </tr>\n",
              "  </thead>\n",
              "  <tbody>\n",
              "    <tr>\n",
              "      <th>COMMONAREA_MEDI</th>\n",
              "      <td>214865</td>\n",
              "      <td>69.9</td>\n",
              "    </tr>\n",
              "    <tr>\n",
              "      <th>COMMONAREA_AVG</th>\n",
              "      <td>214865</td>\n",
              "      <td>69.9</td>\n",
              "    </tr>\n",
              "    <tr>\n",
              "      <th>COMMONAREA_MODE</th>\n",
              "      <td>214865</td>\n",
              "      <td>69.9</td>\n",
              "    </tr>\n",
              "    <tr>\n",
              "      <th>NONLIVINGAPARTMENTS_MODE</th>\n",
              "      <td>213514</td>\n",
              "      <td>69.4</td>\n",
              "    </tr>\n",
              "    <tr>\n",
              "      <th>NONLIVINGAPARTMENTS_AVG</th>\n",
              "      <td>213514</td>\n",
              "      <td>69.4</td>\n",
              "    </tr>\n",
              "    <tr>\n",
              "      <th>...</th>\n",
              "      <td>...</td>\n",
              "      <td>...</td>\n",
              "    </tr>\n",
              "    <tr>\n",
              "      <th>DEF_30_CNT_SOCIAL_CIRCLE</th>\n",
              "      <td>1021</td>\n",
              "      <td>0.3</td>\n",
              "    </tr>\n",
              "    <tr>\n",
              "      <th>OBS_60_CNT_SOCIAL_CIRCLE</th>\n",
              "      <td>1021</td>\n",
              "      <td>0.3</td>\n",
              "    </tr>\n",
              "    <tr>\n",
              "      <th>DEF_60_CNT_SOCIAL_CIRCLE</th>\n",
              "      <td>1021</td>\n",
              "      <td>0.3</td>\n",
              "    </tr>\n",
              "    <tr>\n",
              "      <th>EXT_SOURCE_2</th>\n",
              "      <td>660</td>\n",
              "      <td>0.2</td>\n",
              "    </tr>\n",
              "    <tr>\n",
              "      <th>AMT_GOODS_PRICE</th>\n",
              "      <td>278</td>\n",
              "      <td>0.1</td>\n",
              "    </tr>\n",
              "  </tbody>\n",
              "</table>\n",
              "<p>64 rows × 2 columns</p>\n",
              "</div>"
            ],
            "text/plain": [
              "                          Number mising Value  Percentage missing Value\n",
              "COMMONAREA_MEDI                        214865                      69.9\n",
              "COMMONAREA_AVG                         214865                      69.9\n",
              "COMMONAREA_MODE                        214865                      69.9\n",
              "NONLIVINGAPARTMENTS_MODE               213514                      69.4\n",
              "NONLIVINGAPARTMENTS_AVG                213514                      69.4\n",
              "...                                       ...                       ...\n",
              "DEF_30_CNT_SOCIAL_CIRCLE                 1021                       0.3\n",
              "OBS_60_CNT_SOCIAL_CIRCLE                 1021                       0.3\n",
              "DEF_60_CNT_SOCIAL_CIRCLE                 1021                       0.3\n",
              "EXT_SOURCE_2                              660                       0.2\n",
              "AMT_GOODS_PRICE                           278                       0.1\n",
              "\n",
              "[64 rows x 2 columns]"
            ]
          },
          "execution_count": 323,
          "metadata": {},
          "output_type": "execute_result"
        }
      ],
      "source": [
        "def summary_missing(dataset):\n",
        "    n_miss = dataset.isnull().sum()\n",
        "    n_obs = dataset.shape[0]\n",
        "    n_miss_per = n_miss/n_obs*100\n",
        "    n_miss_tbl = pd.concat([n_miss, n_miss_per], axis = 1).sort_values(1, ascending = False).round(1)\n",
        "    n_miss_tbl = n_miss_tbl[n_miss_tbl[1] != 0]\n",
        "    print('No fields: ', dataset.shape[0])\n",
        "    print('No missing fields: ', n_miss_tbl.shape[0])\n",
        "    n_miss_tbl = n_miss_tbl.rename(columns = \n",
        "                {0:'Number mising Value', 1:'Percentage missing Value'})\n",
        "    return n_miss_tbl\n",
        "summary_missing(app_train)"
      ]
    },
    {
      "cell_type": "code",
      "execution_count": null,
      "metadata": {
        "colab": {
          "base_uri": "https://localhost:8080/",
          "height": 417
        },
        "id": "IvNUQ6fiUKkz",
        "outputId": "a262be1e-3037-4ccb-e685-bfc1dfefebfa"
      },
      "outputs": [
        {
          "data": {
            "text/html": [
              "<div>\n",
              "<style scoped>\n",
              "    .dataframe tbody tr th:only-of-type {\n",
              "        vertical-align: middle;\n",
              "    }\n",
              "\n",
              "    .dataframe tbody tr th {\n",
              "        vertical-align: top;\n",
              "    }\n",
              "\n",
              "    .dataframe thead th {\n",
              "        text-align: right;\n",
              "    }\n",
              "</style>\n",
              "<table border=\"1\" class=\"dataframe\">\n",
              "  <thead>\n",
              "    <tr style=\"text-align: right;\">\n",
              "      <th></th>\n",
              "      <th>Data Type</th>\n",
              "    </tr>\n",
              "  </thead>\n",
              "  <tbody>\n",
              "    <tr>\n",
              "      <th>SK_ID_CURR</th>\n",
              "      <td>int64</td>\n",
              "    </tr>\n",
              "    <tr>\n",
              "      <th>FLAG_CONT_MOBILE</th>\n",
              "      <td>int64</td>\n",
              "    </tr>\n",
              "    <tr>\n",
              "      <th>FLAG_PHONE</th>\n",
              "      <td>int64</td>\n",
              "    </tr>\n",
              "    <tr>\n",
              "      <th>FLAG_EMAIL</th>\n",
              "      <td>int64</td>\n",
              "    </tr>\n",
              "    <tr>\n",
              "      <th>FLAG_DOCUMENT_9</th>\n",
              "      <td>int64</td>\n",
              "    </tr>\n",
              "    <tr>\n",
              "      <th>...</th>\n",
              "      <td>...</td>\n",
              "    </tr>\n",
              "    <tr>\n",
              "      <th>OCCUPATION_TYPE</th>\n",
              "      <td>object</td>\n",
              "    </tr>\n",
              "    <tr>\n",
              "      <th>WEEKDAY_APPR_PROCESS_START</th>\n",
              "      <td>object</td>\n",
              "    </tr>\n",
              "    <tr>\n",
              "      <th>ORGANIZATION_TYPE</th>\n",
              "      <td>object</td>\n",
              "    </tr>\n",
              "    <tr>\n",
              "      <th>NAME_TYPE_SUITE</th>\n",
              "      <td>object</td>\n",
              "    </tr>\n",
              "    <tr>\n",
              "      <th>WALLSMATERIAL_MODE</th>\n",
              "      <td>object</td>\n",
              "    </tr>\n",
              "  </tbody>\n",
              "</table>\n",
              "<p>122 rows × 1 columns</p>\n",
              "</div>"
            ],
            "text/plain": [
              "                           Data Type\n",
              "SK_ID_CURR                     int64\n",
              "FLAG_CONT_MOBILE               int64\n",
              "FLAG_PHONE                     int64\n",
              "FLAG_EMAIL                     int64\n",
              "FLAG_DOCUMENT_9                int64\n",
              "...                              ...\n",
              "OCCUPATION_TYPE               object\n",
              "WEEKDAY_APPR_PROCESS_START    object\n",
              "ORGANIZATION_TYPE             object\n",
              "NAME_TYPE_SUITE               object\n",
              "WALLSMATERIAL_MODE            object\n",
              "\n",
              "[122 rows x 1 columns]"
            ]
          },
          "execution_count": 324,
          "metadata": {},
          "output_type": "execute_result"
        }
      ],
      "source": [
        "def _tbl_dtype(dataset):\n",
        "    sum_dtype = pd.DataFrame(dataset.dtypes).sort_values(0).rename(columns={0:'Data Type'})\n",
        "    return sum_dtype\n",
        "\n",
        "table_dtype = _tbl_dtype(app_train)\n",
        "table_dtype"
      ]
    },
    {
      "cell_type": "code",
      "execution_count": null,
      "metadata": {
        "colab": {
          "base_uri": "https://localhost:8080/"
        },
        "id": "fjk6efWkUn1b",
        "outputId": "d816ab9d-c3f9-475a-8105-bf565571fe92"
      },
      "outputs": [
        {
          "data": {
            "text/plain": [
              "float64    65\n",
              "int64      41\n",
              "object     16\n",
              "Name: Data Type, dtype: int64"
            ]
          },
          "execution_count": 325,
          "metadata": {},
          "output_type": "execute_result"
        }
      ],
      "source": [
        "table_dtype['Data Type'].value_counts()"
      ]
    },
    {
      "cell_type": "code",
      "execution_count": null,
      "metadata": {
        "colab": {
          "base_uri": "https://localhost:8080/",
          "height": 290
        },
        "id": "fOccZYIWUo-S",
        "outputId": "84eb20a5-a5ce-483a-dd12-7c8b428f49c5"
      },
      "outputs": [
        {
          "data": {
            "text/html": [
              "<div>\n",
              "<style scoped>\n",
              "    .dataframe tbody tr th:only-of-type {\n",
              "        vertical-align: middle;\n",
              "    }\n",
              "\n",
              "    .dataframe tbody tr th {\n",
              "        vertical-align: top;\n",
              "    }\n",
              "\n",
              "    .dataframe thead th {\n",
              "        text-align: right;\n",
              "    }\n",
              "</style>\n",
              "<table border=\"1\" class=\"dataframe\">\n",
              "  <thead>\n",
              "    <tr style=\"text-align: right;\">\n",
              "      <th></th>\n",
              "      <th>NAME_CONTRACT_TYPE</th>\n",
              "      <th>CODE_GENDER</th>\n",
              "      <th>FLAG_OWN_CAR</th>\n",
              "      <th>FLAG_OWN_REALTY</th>\n",
              "      <th>NAME_TYPE_SUITE</th>\n",
              "      <th>NAME_INCOME_TYPE</th>\n",
              "      <th>NAME_EDUCATION_TYPE</th>\n",
              "      <th>NAME_FAMILY_STATUS</th>\n",
              "      <th>NAME_HOUSING_TYPE</th>\n",
              "      <th>OCCUPATION_TYPE</th>\n",
              "      <th>WEEKDAY_APPR_PROCESS_START</th>\n",
              "      <th>ORGANIZATION_TYPE</th>\n",
              "      <th>FONDKAPREMONT_MODE</th>\n",
              "      <th>HOUSETYPE_MODE</th>\n",
              "      <th>WALLSMATERIAL_MODE</th>\n",
              "      <th>EMERGENCYSTATE_MODE</th>\n",
              "    </tr>\n",
              "  </thead>\n",
              "  <tbody>\n",
              "    <tr>\n",
              "      <th>0</th>\n",
              "      <td>Cash loans</td>\n",
              "      <td>M</td>\n",
              "      <td>N</td>\n",
              "      <td>Y</td>\n",
              "      <td>Unaccompanied</td>\n",
              "      <td>Working</td>\n",
              "      <td>Secondary / secondary special</td>\n",
              "      <td>Single / not married</td>\n",
              "      <td>House / apartment</td>\n",
              "      <td>Laborers</td>\n",
              "      <td>WEDNESDAY</td>\n",
              "      <td>Business Entity Type 3</td>\n",
              "      <td>reg oper account</td>\n",
              "      <td>block of flats</td>\n",
              "      <td>Stone, brick</td>\n",
              "      <td>No</td>\n",
              "    </tr>\n",
              "    <tr>\n",
              "      <th>1</th>\n",
              "      <td>Cash loans</td>\n",
              "      <td>F</td>\n",
              "      <td>N</td>\n",
              "      <td>N</td>\n",
              "      <td>Family</td>\n",
              "      <td>State servant</td>\n",
              "      <td>Higher education</td>\n",
              "      <td>Married</td>\n",
              "      <td>House / apartment</td>\n",
              "      <td>Core staff</td>\n",
              "      <td>MONDAY</td>\n",
              "      <td>School</td>\n",
              "      <td>reg oper account</td>\n",
              "      <td>block of flats</td>\n",
              "      <td>Block</td>\n",
              "      <td>No</td>\n",
              "    </tr>\n",
              "    <tr>\n",
              "      <th>2</th>\n",
              "      <td>Revolving loans</td>\n",
              "      <td>M</td>\n",
              "      <td>Y</td>\n",
              "      <td>Y</td>\n",
              "      <td>Unaccompanied</td>\n",
              "      <td>Working</td>\n",
              "      <td>Secondary / secondary special</td>\n",
              "      <td>Single / not married</td>\n",
              "      <td>House / apartment</td>\n",
              "      <td>Laborers</td>\n",
              "      <td>MONDAY</td>\n",
              "      <td>Government</td>\n",
              "      <td>NaN</td>\n",
              "      <td>NaN</td>\n",
              "      <td>NaN</td>\n",
              "      <td>NaN</td>\n",
              "    </tr>\n",
              "    <tr>\n",
              "      <th>3</th>\n",
              "      <td>Cash loans</td>\n",
              "      <td>F</td>\n",
              "      <td>N</td>\n",
              "      <td>Y</td>\n",
              "      <td>Unaccompanied</td>\n",
              "      <td>Working</td>\n",
              "      <td>Secondary / secondary special</td>\n",
              "      <td>Civil marriage</td>\n",
              "      <td>House / apartment</td>\n",
              "      <td>Laborers</td>\n",
              "      <td>WEDNESDAY</td>\n",
              "      <td>Business Entity Type 3</td>\n",
              "      <td>NaN</td>\n",
              "      <td>NaN</td>\n",
              "      <td>NaN</td>\n",
              "      <td>NaN</td>\n",
              "    </tr>\n",
              "    <tr>\n",
              "      <th>4</th>\n",
              "      <td>Cash loans</td>\n",
              "      <td>M</td>\n",
              "      <td>N</td>\n",
              "      <td>Y</td>\n",
              "      <td>Unaccompanied</td>\n",
              "      <td>Working</td>\n",
              "      <td>Secondary / secondary special</td>\n",
              "      <td>Single / not married</td>\n",
              "      <td>House / apartment</td>\n",
              "      <td>Core staff</td>\n",
              "      <td>THURSDAY</td>\n",
              "      <td>Religion</td>\n",
              "      <td>NaN</td>\n",
              "      <td>NaN</td>\n",
              "      <td>NaN</td>\n",
              "      <td>NaN</td>\n",
              "    </tr>\n",
              "  </tbody>\n",
              "</table>\n",
              "</div>"
            ],
            "text/plain": [
              "  NAME_CONTRACT_TYPE CODE_GENDER  ... WALLSMATERIAL_MODE EMERGENCYSTATE_MODE\n",
              "0         Cash loans           M  ...       Stone, brick                  No\n",
              "1         Cash loans           F  ...              Block                  No\n",
              "2    Revolving loans           M  ...                NaN                 NaN\n",
              "3         Cash loans           F  ...                NaN                 NaN\n",
              "4         Cash loans           M  ...                NaN                 NaN\n",
              "\n",
              "[5 rows x 16 columns]"
            ]
          },
          "execution_count": 326,
          "metadata": {},
          "output_type": "execute_result"
        }
      ],
      "source": [
        "app_train.select_dtypes('object').head()"
      ]
    },
    {
      "cell_type": "code",
      "execution_count": null,
      "metadata": {
        "colab": {
          "base_uri": "https://localhost:8080/"
        },
        "id": "YLDM6TVZUog0",
        "outputId": "2685e9ba-0540-4305-abf0-4c942f2ac6e7"
      },
      "outputs": [
        {
          "data": {
            "text/plain": [
              "NAME_CONTRACT_TYPE             2\n",
              "CODE_GENDER                    3\n",
              "FLAG_OWN_CAR                   2\n",
              "FLAG_OWN_REALTY                2\n",
              "NAME_TYPE_SUITE                7\n",
              "NAME_INCOME_TYPE               8\n",
              "NAME_EDUCATION_TYPE            5\n",
              "NAME_FAMILY_STATUS             6\n",
              "NAME_HOUSING_TYPE              6\n",
              "OCCUPATION_TYPE               18\n",
              "WEEKDAY_APPR_PROCESS_START     7\n",
              "ORGANIZATION_TYPE             58\n",
              "FONDKAPREMONT_MODE             4\n",
              "HOUSETYPE_MODE                 3\n",
              "WALLSMATERIAL_MODE             7\n",
              "EMERGENCYSTATE_MODE            2\n",
              "dtype: int64"
            ]
          },
          "execution_count": 327,
          "metadata": {},
          "output_type": "execute_result"
        }
      ],
      "source": [
        "app_train.select_dtypes('object').apply(pd.Series.nunique)"
      ]
    },
    {
      "cell_type": "code",
      "execution_count": null,
      "metadata": {
        "colab": {
          "base_uri": "https://localhost:8080/",
          "height": 950
        },
        "id": "nQUuDkgOVP5S",
        "outputId": "8ceb39ed-c55b-4d08-cade-e9ca684b4af3"
      },
      "outputs": [
        {
          "data": {
            "image/png": "[encoded data removed]",
            "text/plain": [
              "<Figure size 1440x1080 with 14 Axes>"
            ]
          },
          "metadata": {
            "needs_background": "light"
          },
          "output_type": "display_data"
        }
      ],
      "source": [
        "dtypes_object = table_dtype[table_dtype['Data Type'] == 'object'].index.tolist()\n",
        "dtypes_object = [col for col in dtypes_object if col not in ['OCCUPATION_TYPE', 'ORGANIZATION_TYPE']]\n",
        "\n",
        "\n",
        "def _plot_bar_classes(cols):\n",
        "    app_train[cols].value_counts().plot.bar()\n",
        "\n",
        "plt.figure(figsize = (20, 15))    \n",
        "for i in range(1, 15, 1):\n",
        "    plt.subplot(5, 3, i)\n",
        "    _plot_bar_classes(dtypes_object[i-1])\n",
        "    plt.title(dtypes_object[i-1])"
      ]
    },
    {
      "cell_type": "code",
      "execution_count": null,
      "metadata": {
        "colab": {
          "base_uri": "https://localhost:8080/"
        },
        "id": "6aFeQspKVi5i",
        "outputId": "2dc6a25d-3490-4380-b0ec-8aa9765044d9"
      },
      "outputs": [
        {
          "name": "stdout",
          "output_type": "stream",
          "text": [
            "NAME_CONTRACT_TYPE\n",
            "Cash loans         10.981913\n",
            "Revolving loans    17.253741\n",
            "dtype: float64\n",
            "-------------------------------------\n",
            "\n",
            "CODE_GENDER\n",
            "M       8.860066\n",
            "F      13.287085\n",
            "XNA          NaN\n",
            "dtype: float64\n",
            "-------------------------------------\n",
            "\n",
            "FLAG_OWN_CAR\n",
            "N    10.764392\n",
            "Y    12.805042\n",
            "dtype: float64\n",
            "-------------------------------------\n",
            "\n",
            "FLAG_OWN_REALTY\n",
            "N    11.012114\n",
            "Y    11.560325\n",
            "dtype: float64\n",
            "-------------------------------------\n",
            "\n",
            "EMERGENCYSTATE_MODE\n",
            "Yes     9.439462\n",
            "No     13.357709\n",
            "dtype: float64\n",
            "-------------------------------------\n",
            "\n",
            "FONDKAPREMONT_MODE\n",
            "not specified            12.256410\n",
            "reg oper account         13.330357\n",
            "reg oper spec account    14.252525\n",
            "org spec account         16.183486\n",
            "dtype: float64\n",
            "-------------------------------------\n",
            "\n",
            "NAME_INCOME_TYPE\n",
            "Maternity leave          1.500000\n",
            "Unemployed               1.750000\n",
            "Working                  9.429191\n",
            "Commercial associate    12.361381\n",
            "State servant           16.376301\n",
            "Pensioner               17.565392\n",
            "Businessman                   NaN\n",
            "Student                       NaN\n",
            "dtype: float64\n",
            "-------------------------------------\n",
            "\n",
            "NAME_EDUCATION_TYPE\n",
            "Lower secondary                   8.151079\n",
            "Secondary / secondary special    10.185771\n",
            "Incomplete higher                10.785550\n",
            "Higher education                 17.673734\n",
            "Academic degree                  53.666667\n",
            "dtype: float64\n",
            "-------------------------------------\n",
            "\n",
            "NAME_FAMILY_STATUS\n",
            "Civil marriage           9.055724\n",
            "Single / not married     9.196096\n",
            "Separated               11.203704\n",
            "Married                 12.227744\n",
            "Widow                   16.169691\n",
            "Unknown                       NaN\n",
            "dtype: float64\n",
            "-------------------------------------\n",
            "\n",
            "NAME_HOUSING_TYPE\n",
            "Rented apartment        7.121464\n",
            "With parents            7.548387\n",
            "Municipal apartment    10.709948\n",
            "Co-op apartment        11.606742\n",
            "House / apartment      11.827567\n",
            "Office apartment       14.215116\n",
            "dtype: float64\n",
            "-------------------------------------\n",
            "\n",
            "HOUSETYPE_MODE\n",
            "specific housing     8.861842\n",
            "terraced house      10.766990\n",
            "block of flats      13.402201\n",
            "dtype: float64\n",
            "-------------------------------------\n",
            "\n",
            "WEEKDAY_APPR_PROCESS_START\n",
            "TUESDAY      10.975339\n",
            "WEDNESDAY    11.254365\n",
            "FRIDAY       11.274567\n",
            "THURSDAY     11.345290\n",
            "SUNDAY       11.611847\n",
            "SATURDAY     11.678652\n",
            "MONDAY       11.891205\n",
            "dtype: float64\n",
            "-------------------------------------\n",
            "\n",
            "NAME_TYPE_SUITE\n",
            "Other_B             9.172414\n",
            "Other_A            10.394737\n",
            "Group of people    10.782609\n",
            "Unaccompanied      11.220386\n",
            "Spouse, partner    11.703911\n",
            "Family             12.342971\n",
            "Children           12.556017\n",
            "dtype: float64\n",
            "-------------------------------------\n",
            "\n",
            "WALLSMATERIAL_MODE\n",
            "Wooden           9.311538\n",
            "Others          11.037037\n",
            "Mixed           12.271676\n",
            "Stone, brick    12.503125\n",
            "Block           13.235385\n",
            "Panel           14.753817\n",
            "Monolithic      20.178571\n",
            "dtype: float64\n",
            "-------------------------------------\n",
            "\n"
          ]
        }
      ],
      "source": [
        "def _per_categorical(col):\n",
        "    tbl_per = pd.pivot_table(app_train[['TARGET', col]], index = ['TARGET'], columns = [col], aggfunc = len)\n",
        "    per_categorical = (tbl_per.iloc[0, :]/tbl_per.iloc[1, :]).sort_values(ascending = True)\n",
        "    print(per_categorical)\n",
        "    print('-------------------------------------\\n')\n",
        "    return per_categorical\n",
        "\n",
        "for col in dtypes_object:\n",
        "    _per_categorical(col)"
      ]
    },
    {
      "cell_type": "code",
      "execution_count": null,
      "metadata": {
        "colab": {
          "base_uri": "https://localhost:8080/",
          "height": 895
        },
        "id": "Zp_97_6nVmXi",
        "outputId": "a012946d-83fb-4a35-c8ea-620bbb1078e3"
      },
      "outputs": [
        {
          "data": {
            "image/png": "[encoded data removed]",
            "text/plain": [
              "<Figure size 1440x1080 with 14 Axes>"
            ]
          },
          "metadata": {
            "needs_background": "light"
          },
          "output_type": "display_data"
        }
      ],
      "source": [
        "def _plot_per_categorical(col):\n",
        "    tbl_per = pd.pivot_table(app_train[['TARGET', col]], index = ['TARGET'], columns = [col], aggfunc = len)\n",
        "    per_categorical = (tbl_per.iloc[0, :]/tbl_per.iloc[1, :]).sort_values(ascending = True)\n",
        "    per_categorical.plot.bar(rot=0)\n",
        "    plt.title(col)\n",
        "    return per_categorical\n",
        "\n",
        "plt.figure(figsize = (20, 15))\n",
        "i = 0\n",
        "for col in dtypes_object:\n",
        "    i += 1\n",
        "    plt.subplot(5, 3, i)\n",
        "    _plot_per_categorical(col)"
      ]
    },
    {
      "cell_type": "code",
      "execution_count": null,
      "metadata": {
        "colab": {
          "base_uri": "https://localhost:8080/"
        },
        "id": "MJi-Tr0FVt4-",
        "outputId": "6f6c1cf3-2c0a-4d10-b09c-f28bfd3a3f15"
      },
      "outputs": [
        {
          "name": "stdout",
          "output_type": "stream",
          "text": [
            "ORGANIZATION_TYPE\n",
            "Transport: type 3          5.347594\n",
            "Industry: type 13          6.444444\n",
            "Industry: type 8           7.000000\n",
            "Restaurant                 7.542453\n",
            "Construction               7.561783\n",
            "Cleaning                   7.965517\n",
            "Industry: type 1           8.034783\n",
            "Industry: type 3           8.419540\n",
            "Realtor                    8.428571\n",
            "Agriculture                8.548638\n",
            "Trade: type 3              8.673130\n",
            "Self-employed              8.829069\n",
            "Industry: type 4           8.853933\n",
            "Security                   9.021605\n",
            "Trade: type 7              9.582432\n",
            "Business Entity Type 3     9.753124\n",
            "Transport: type 4          9.774451\n",
            "Mobile                     9.931034\n",
            "Trade: type 1             10.225806\n",
            "Industry: type 11         10.555556\n",
            "Business Entity Type 2    10.725556\n",
            "Postal                    10.851648\n",
            "Advertising               11.257143\n",
            "Business Entity Type 1    11.287474\n",
            "Industry: type 7          11.447619\n",
            "Housing                   11.587234\n",
            "Legal Services            11.708333\n",
            "Transport: type 2         11.813953\n",
            "Other                     12.084706\n",
            "Telecom                   12.113636\n",
            "Industry: type 2          12.878788\n",
            "Industry: type 6          13.000000\n",
            "Emergency                 13.000000\n",
            "Kindergarten              13.214876\n",
            "Trade: type 2             13.285714\n",
            "Government                13.330579\n",
            "Industry: type 5          13.609756\n",
            "Industry: type 9          13.968889\n",
            "Electricity               14.079365\n",
            "Services                  14.144231\n",
            "Medicine                  14.187246\n",
            "Industry: type 10         14.571429\n",
            "Hotel                     14.580645\n",
            "Trade: type 5             15.333333\n",
            "School                    15.906844\n",
            "Religion                  16.000000\n",
            "Insurance                 16.558824\n",
            "Culture                   17.047619\n",
            "XNA                       17.519732\n",
            "Bank                      18.284615\n",
            "Military                  18.511111\n",
            "Police                    19.008547\n",
            "University                19.415385\n",
            "Security Ministries       19.562500\n",
            "Trade: type 6             20.758621\n",
            "Transport: type 1         21.333333\n",
            "Industry: type 12         25.357143\n",
            "Trade: type 4             31.000000\n",
            "dtype: float64\n",
            "-------------------------------------\n",
            "\n",
            "OCCUPATION_TYPE\n",
            "Low-skill Laborers        4.830084\n",
            "Drivers                   7.829141\n",
            "Waiters/barmen staff      7.868421\n",
            "Security staff            8.308864\n",
            "Laborers                  8.452895\n",
            "Cooking staff             8.574879\n",
            "Sales staff               9.382277\n",
            "Cleaning staff            9.409396\n",
            "Realty agents            11.728814\n",
            "Secretaries              13.184783\n",
            "Medicine staff           13.924825\n",
            "Private service staff    14.154286\n",
            "IT staff                 14.470588\n",
            "HR staff                 14.638889\n",
            "Core staff               14.863061\n",
            "Managers                 15.092620\n",
            "High skill tech staff    15.233951\n",
            "Accountants              19.702532\n",
            "dtype: float64\n",
            "-------------------------------------\n",
            "\n"
          ]
        }
      ],
      "source": [
        "for col in ['ORGANIZATION_TYPE', 'OCCUPATION_TYPE']:\n",
        "    _per_categorical(col)"
      ]
    },
    {
      "cell_type": "code",
      "execution_count": null,
      "metadata": {
        "colab": {
          "base_uri": "https://localhost:8080/"
        },
        "id": "PgLH8fI2V1J2",
        "outputId": "cc3bfb1e-4201-4b73-a411-6a7efa57dfd2"
      },
      "outputs": [
        {
          "name": "stdout",
          "output_type": "stream",
          "text": [
            "OCCUPATION_TYPE\n",
            "Low-skill Laborers        4.830084\n",
            "Drivers                   7.829141\n",
            "Waiters/barmen staff      7.868421\n",
            "Security staff            8.308864\n",
            "Laborers                  8.452895\n",
            "Cooking staff             8.574879\n",
            "Sales staff               9.382277\n",
            "Cleaning staff            9.409396\n",
            "Realty agents            11.728814\n",
            "Secretaries              13.184783\n",
            "Medicine staff           13.924825\n",
            "Private service staff    14.154286\n",
            "IT staff                 14.470588\n",
            "HR staff                 14.638889\n",
            "Core staff               14.863061\n",
            "Managers                 15.092620\n",
            "High skill tech staff    15.233951\n",
            "Accountants              19.702532\n",
            "dtype: float64\n",
            "-------------------------------------\n",
            "\n"
          ]
        },
        {
          "data": {
            "text/plain": [
              "[['Low-skill Laborers'],\n",
              " ['Drivers',\n",
              "  'Waiters/barmen staff',\n",
              "  'Security staff',\n",
              "  'Laborers',\n",
              "  'Cooking staff',\n",
              "  'Sales staff',\n",
              "  'Cleaning staff'],\n",
              " ['Realty agents',\n",
              "  'Secretaries',\n",
              "  'Medicine staff',\n",
              "  'Private service staff',\n",
              "  'IT staff',\n",
              "  'HR staff',\n",
              "  'Core staff',\n",
              "  'Managers',\n",
              "  'High skill tech staff'],\n",
              " ['Accountants']]"
            ]
          },
          "execution_count": 332,
          "metadata": {},
          "output_type": "execute_result"
        }
      ],
      "source": [
        "# Nhóm các giá trị rate gần bằng nhau vào 1 nhóm theo schedule_div.\n",
        "def _devide_group(col, schedule_div = None, n_groups = 3, *kwargs):\n",
        "    cols = []\n",
        "    tbl_per_cat = _per_categorical(col)\n",
        "    \n",
        "    if schedule_div is None:\n",
        "        n_cats = len(tbl_per_cat)\n",
        "        n_val_incat = int(n_cats/n_groups)\n",
        "        n_odd = n_cats - n_groups*n_val_incat\n",
        "\n",
        "        for i in range(n_groups):\n",
        "            if i == n_groups - 1:\n",
        "                el = tbl_per_cat[(n_val_incat*i):(n_val_incat*(i+1)+n_odd)].index.tolist()\n",
        "            else:\n",
        "                el = tbl_per_cat[(n_val_incat*i):n_val_incat*(i+1)].index.tolist()    \n",
        "            cols.append(el)\n",
        "    else:\n",
        "        idx = 0\n",
        "        for n_cols in schedule_div:\n",
        "            el_cols = tbl_per_cat[idx:(idx+n_cols)].index.tolist()\n",
        "            cols.append(el_cols)\n",
        "            idx += n_cols\n",
        "                \n",
        "    return cols\n",
        "\n",
        "cols_OCCUPATION_TYPE = _devide_group(col = 'OCCUPATION_TYPE', schedule_div = [1, 7, 9, 1])\n",
        "cols_OCCUPATION_TYPE"
      ]
    },
    {
      "cell_type": "code",
      "execution_count": null,
      "metadata": {
        "colab": {
          "base_uri": "https://localhost:8080/"
        },
        "id": "LO_faVwdXXYV",
        "outputId": "f4350c92-2cab-445d-ad79-3beb1cee5579"
      },
      "outputs": [
        {
          "name": "stdout",
          "output_type": "stream",
          "text": [
            "ORGANIZATION_TYPE\n",
            "Transport: type 3          5.347594\n",
            "Industry: type 13          6.444444\n",
            "Industry: type 8           7.000000\n",
            "Restaurant                 7.542453\n",
            "Construction               7.561783\n",
            "Cleaning                   7.965517\n",
            "Industry: type 1           8.034783\n",
            "Industry: type 3           8.419540\n",
            "Realtor                    8.428571\n",
            "Agriculture                8.548638\n",
            "Trade: type 3              8.673130\n",
            "Self-employed              8.829069\n",
            "Industry: type 4           8.853933\n",
            "Security                   9.021605\n",
            "Trade: type 7              9.582432\n",
            "Business Entity Type 3     9.753124\n",
            "Transport: type 4          9.774451\n",
            "Mobile                     9.931034\n",
            "Trade: type 1             10.225806\n",
            "Industry: type 11         10.555556\n",
            "Business Entity Type 2    10.725556\n",
            "Postal                    10.851648\n",
            "Advertising               11.257143\n",
            "Business Entity Type 1    11.287474\n",
            "Industry: type 7          11.447619\n",
            "Housing                   11.587234\n",
            "Legal Services            11.708333\n",
            "Transport: type 2         11.813953\n",
            "Other                     12.084706\n",
            "Telecom                   12.113636\n",
            "Industry: type 2          12.878788\n",
            "Industry: type 6          13.000000\n",
            "Emergency                 13.000000\n",
            "Kindergarten              13.214876\n",
            "Trade: type 2             13.285714\n",
            "Government                13.330579\n",
            "Industry: type 5          13.609756\n",
            "Industry: type 9          13.968889\n",
            "Electricity               14.079365\n",
            "Services                  14.144231\n",
            "Medicine                  14.187246\n",
            "Industry: type 10         14.571429\n",
            "Hotel                     14.580645\n",
            "Trade: type 5             15.333333\n",
            "School                    15.906844\n",
            "Religion                  16.000000\n",
            "Insurance                 16.558824\n",
            "Culture                   17.047619\n",
            "XNA                       17.519732\n",
            "Bank                      18.284615\n",
            "Military                  18.511111\n",
            "Police                    19.008547\n",
            "University                19.415385\n",
            "Security Ministries       19.562500\n",
            "Trade: type 6             20.758621\n",
            "Transport: type 1         21.333333\n",
            "Industry: type 12         25.357143\n",
            "Trade: type 4             31.000000\n",
            "dtype: float64\n",
            "-------------------------------------\n",
            "\n"
          ]
        },
        {
          "data": {
            "text/plain": [
              "[['Transport: type 3',\n",
              "  'Industry: type 13',\n",
              "  'Industry: type 8',\n",
              "  'Restaurant',\n",
              "  'Construction',\n",
              "  'Cleaning',\n",
              "  'Industry: type 1',\n",
              "  'Industry: type 3',\n",
              "  'Realtor',\n",
              "  'Agriculture',\n",
              "  'Trade: type 3',\n",
              "  'Self-employed',\n",
              "  'Industry: type 4',\n",
              "  'Security',\n",
              "  'Trade: type 7',\n",
              "  'Business Entity Type 3',\n",
              "  'Transport: type 4',\n",
              "  'Mobile',\n",
              "  'Trade: type 1'],\n",
              " ['Industry: type 11',\n",
              "  'Business Entity Type 2',\n",
              "  'Postal',\n",
              "  'Advertising',\n",
              "  'Business Entity Type 1',\n",
              "  'Industry: type 7',\n",
              "  'Housing',\n",
              "  'Legal Services',\n",
              "  'Transport: type 2',\n",
              "  'Other',\n",
              "  'Telecom',\n",
              "  'Industry: type 2',\n",
              "  'Industry: type 6',\n",
              "  'Emergency',\n",
              "  'Kindergarten',\n",
              "  'Trade: type 2',\n",
              "  'Government',\n",
              "  'Industry: type 5',\n",
              "  'Industry: type 9'],\n",
              " ['Electricity',\n",
              "  'Services',\n",
              "  'Medicine',\n",
              "  'Industry: type 10',\n",
              "  'Hotel',\n",
              "  'Trade: type 5',\n",
              "  'School',\n",
              "  'Religion',\n",
              "  'Insurance',\n",
              "  'Culture',\n",
              "  'XNA',\n",
              "  'Bank',\n",
              "  'Military',\n",
              "  'Police',\n",
              "  'University',\n",
              "  'Security Ministries',\n",
              "  'Trade: type 6',\n",
              "  'Transport: type 1',\n",
              "  'Industry: type 12',\n",
              "  'Trade: type 4']]"
            ]
          },
          "execution_count": 333,
          "metadata": {},
          "output_type": "execute_result"
        }
      ],
      "source": [
        "cols_ORGANIZATION_TYPE = _devide_group(col = 'ORGANIZATION_TYPE')\n",
        "cols_ORGANIZATION_TYPE"
      ]
    },
    {
      "cell_type": "code",
      "execution_count": null,
      "metadata": {
        "colab": {
          "base_uri": "https://localhost:8080/"
        },
        "id": "lmqAE9bzXccI",
        "outputId": "67d888a1-49af-4226-f556-ca27066a5d5f"
      },
      "outputs": [
        {
          "data": {
            "text/plain": [
              "array(['ORGANIZATION_TYPE_0', 'ORGANIZATION_TYPE_2',\n",
              "       'ORGANIZATION_TYPE_1'], dtype=object)"
            ]
          },
          "execution_count": 334,
          "metadata": {},
          "output_type": "execute_result"
        }
      ],
      "source": [
        "def _map_lambda_cats(cols_list, colname, x): \n",
        "    cats = list(map(lambda x:colname + '_' + str(x), np.arange(len(cols_list)).tolist()))\n",
        "    for i in range(len(cols_ORGANIZATION_TYPE)):\n",
        "        if x in cols_list[i]:\n",
        "            return cats[i]\n",
        "        \n",
        "def _map_cats(cols_list, colname, dataset):                    \n",
        "    return list(map(lambda x: _map_lambda_cats(cols_list, colname, x), \n",
        "                    dataset[colname]))\n",
        "\n",
        "app_train['ORGANIZATION_TYPE'] = _map_cats(cols_ORGANIZATION_TYPE, 'ORGANIZATION_TYPE', app_train)\n",
        "pd.Series.unique(app_train['ORGANIZATION_TYPE'])"
      ]
    },
    {
      "cell_type": "markdown",
      "metadata": {
        "id": "c6wEkf5XXfE5"
      },
      "source": [
        "Test Data"
      ]
    },
    {
      "cell_type": "code",
      "execution_count": null,
      "metadata": {
        "colab": {
          "base_uri": "https://localhost:8080/"
        },
        "id": "OnSAZtrMXIDq",
        "outputId": "cb3834bb-2e3e-415d-8d72-e3241e11953c"
      },
      "outputs": [
        {
          "data": {
            "text/plain": [
              "array(['ORGANIZATION_TYPE_1', 'ORGANIZATION_TYPE_0',\n",
              "       'ORGANIZATION_TYPE_2'], dtype=object)"
            ]
          },
          "execution_count": 335,
          "metadata": {},
          "output_type": "execute_result"
        }
      ],
      "source": [
        "app_test['ORGANIZATION_TYPE'] = _map_cats(cols_ORGANIZATION_TYPE, 'ORGANIZATION_TYPE', app_test)\n",
        "pd.Series.unique(app_test['ORGANIZATION_TYPE'])"
      ]
    },
    {
      "cell_type": "code",
      "execution_count": null,
      "metadata": {
        "id": "7Ej0mREeXlhQ"
      },
      "outputs": [],
      "source": [
        "app_train['OCCUPATION_TYPE'] = _map_cats(cols_OCCUPATION_TYPE, 'OCCUPATION_TYPE', app_train)\n",
        "app_test['OCCUPATION_TYPE'] = _map_cats(cols_OCCUPATION_TYPE, 'OCCUPATION_TYPE', app_test)"
      ]
    },
    {
      "cell_type": "code",
      "execution_count": null,
      "metadata": {
        "colab": {
          "base_uri": "https://localhost:8080/",
          "height": 277
        },
        "id": "DRoRDY1QXoGl",
        "outputId": "957a8ee5-1ade-43dd-a0b6-fa29a8b0ade3"
      },
      "outputs": [
        {
          "data": {
            "image/png": "[encoded data removed]",
            "text/plain": [
              "<Figure size 1152x576 with 1 Axes>"
            ]
          },
          "metadata": {
            "needs_background": "light"
          },
          "output_type": "display_data"
        }
      ],
      "source": [
        "i = 0\n",
        "plt.figure(figsize = (16, 8))\n",
        "for col in ['ORGANIZATION_TYPE']:\n",
        "    i += 1\n",
        "    plt.subplot(2, 1, i)\n",
        "    _plot_per_categorical(col)\n",
        "\n"
      ]
    },
    {
      "cell_type": "code",
      "execution_count": null,
      "metadata": {
        "colab": {
          "base_uri": "https://localhost:8080/",
          "height": 179
        },
        "id": "ZJdJ8PC4u1N3",
        "outputId": "f5ddaf79-eb90-4be1-9598-ab81ee6d8798"
      },
      "outputs": [
        {
          "data": {
            "image/png": "[encoded data removed]",
            "text/plain": [
              "<Figure size 432x288 with 1 Axes>"
            ]
          },
          "metadata": {
            "needs_background": "light"
          },
          "output_type": "display_data"
        }
      ],
      "source": [
        "for col in ['OCCUPATION_TYPE']:\n",
        "    i += 1\n",
        "    plt.subplot(2, 1, i)\n",
        "    _plot_per_categorical(col)"
      ]
    },
    {
      "cell_type": "code",
      "execution_count": null,
      "metadata": {
        "id": "tdmP31AJXqNA"
      },
      "outputs": [],
      "source": [
        "app_train = pd.get_dummies(app_train)\n",
        "app_test = pd.get_dummies(app_test)"
      ]
    },
    {
      "cell_type": "code",
      "execution_count": null,
      "metadata": {
        "id": "6fq6wcc2XxSE"
      },
      "outputs": [],
      "source": [
        "print('app_train shape: ', app_train.shape)\n",
        "print('app_test shape: ', app_test.shape)"
      ]
    },
    {
      "cell_type": "code",
      "execution_count": null,
      "metadata": {
        "colab": {
          "base_uri": "https://localhost:8080/"
        },
        "id": "IhFfH5S8X0mW",
        "outputId": "9c3d6258-9c87-4d1c-b2c3-551bc348b275"
      },
      "outputs": [
        {
          "name": "stdout",
          "output_type": "stream",
          "text": [
            "TARGET\n",
            "CODE_GENDER_XNA\n",
            "NAME_INCOME_TYPE_Maternity leave\n",
            "NAME_FAMILY_STATUS_Unknown\n"
          ]
        }
      ],
      "source": [
        "for fea_name in app_train.columns:\n",
        "    if fea_name not in app_test.columns:\n",
        "        print(fea_name)"
      ]
    },
    {
      "cell_type": "code",
      "execution_count": null,
      "metadata": {
        "colab": {
          "base_uri": "https://localhost:8080/"
        },
        "id": "SsKLDXxeX27Y",
        "outputId": "622ecb3b-c5ea-49ab-a596-31fb5dbf5aeb"
      },
      "outputs": [
        {
          "name": "stdout",
          "output_type": "stream",
          "text": [
            "app_train shape:  (307511, 173)\n",
            "app_test shape:  (48744, 172)\n"
          ]
        }
      ],
      "source": [
        "TARGET = app_train['TARGET']\n",
        "\n",
        "# Lệnh align theo axis = 1 sẽ lấy những trường xuất hiện đồng thời trong app_train và app_test\n",
        "app_train, app_test = app_train.align(app_test, join = 'inner', axis = 1)\n",
        "# Sau lệnh align biến TARGET bị mất, do đó ta cần gán lại biến này\n",
        "app_train['TARGET'] = TARGET\n",
        "\n",
        "print('app_train shape: ', app_train.shape)\n",
        "print('app_test shape: ', app_test.shape)"
      ]
    },
    {
      "cell_type": "markdown",
      "metadata": {
        "id": "m74-M08wX6KN"
      },
      "source": [
        "Xử lý outlier\n"
      ]
    },
    {
      "cell_type": "code",
      "execution_count": null,
      "metadata": {
        "id": "GG9zzN-sX_7g"
      },
      "outputs": [],
      "source": [
        "app_train.head()\n"
      ]
    },
    {
      "cell_type": "code",
      "execution_count": null,
      "metadata": {
        "id": "5KhesspNYZ1d"
      },
      "outputs": [],
      "source": [
        "app_train['AMT_INCOME_TOTAL'].describe().plot.box()"
      ]
    },
    {
      "cell_type": "code",
      "execution_count": null,
      "metadata": {
        "id": "H_KRCwF9YaYf"
      },
      "outputs": [],
      "source": [
        "app_train['AMT_INCOME_TOTAL'].describe()"
      ]
    },
    {
      "cell_type": "markdown",
      "metadata": {
        "id": "RQalHztFYeZx"
      },
      "source": [
        "Giá trị cao nhất khoảng 117 triệu đô trong khi trung bình thu nhập chỉ khoảng 168 nghìn USD\n"
      ]
    },
    {
      "cell_type": "code",
      "execution_count": null,
      "metadata": {
        "id": "IKbO4rSoYdGU"
      },
      "outputs": [],
      "source": [
        "def _plot_density(colname):\n",
        "    plt.figure(figsize = (10, 8))\n",
        "    sns.kdeplot(app_train[colname][app_train['TARGET'] == 0], label = 'Target = 0')\n",
        "    sns.kdeplot(app_train[colname][app_train['TARGET'] == 1], label = 'Target = 1')\n",
        "    plt.xlabel(colname)\n",
        "    plt.ylabel('Density')\n",
        "    plt.title('Distribution of %s'%colname)\n",
        "\n",
        "_plot_density('AMT_INCOME_TOTAL')"
      ]
    },
    {
      "cell_type": "code",
      "execution_count": null,
      "metadata": {
        "id": "04ZxDJgWZSlk"
      },
      "outputs": [],
      "source": [
        "def _zoom_3sigma(col, dataset, dataset_apl):\n",
        "    '''\n",
        "    col: Tên cột dữ liệu\n",
        "    dataset: Bảng dữ liệu gốc sử dụng để tính khoảng 3 sigma\n",
        "    dataset_apl: Bảng dữ liệu mới áp dụng khoảng 3 sigma được lấy từ dataset.\n",
        "    '''\n",
        "    xs = dataset[col]\n",
        "    mu = xs.mean()\n",
        "    sigma = xs.std()\n",
        "    low =  mu - 3*sigma\n",
        "#     low =  0 if low < 0 else low\n",
        "    high = mu + 3*sigma\n",
        "    \n",
        "    def _value(x):\n",
        "        if x < low: return low\n",
        "        elif x > high: return high\n",
        "        else: return x\n",
        "    xapl = dataset_apl[col]    \n",
        "    xnew = list(map(lambda x: _value(x), xapl))\n",
        "    n_low = len([i for i in xnew if i == low])\n",
        "    n_high = len([i for i in xnew if i == high])\n",
        "    n = len(xapl)\n",
        "    print('Percentage of low: {:.2f}{}'.format(100*n_low/n, '%'))\n",
        "    print('Percentage of high: {:.2f}{}'.format(100*n_high/n, '%'))\n",
        "    print('Low value: {:.2f}'.format(low))\n",
        "    print('High value: {:.2f}'.format(high))\n",
        "    return xnew\n",
        "\n",
        "# Kiểm tra với biến FLAG_MOBIL\n",
        "x = _zoom_3sigma('FLAG_MOBIL', app_train, app_train) "
      ]
    },
    {
      "cell_type": "code",
      "execution_count": null,
      "metadata": {
        "id": "-wrkm0dYZXLz"
      },
      "outputs": [],
      "source": [
        "app_train.dtypes.unique()"
      ]
    },
    {
      "cell_type": "code",
      "execution_count": null,
      "metadata": {
        "id": "GNiLLRzBZak6"
      },
      "outputs": [],
      "source": [
        "# Thống kê các giá trị khác biệt trong toàn bộ các biến.\n",
        "def _count_unique(x):\n",
        "    return pd.Series.nunique(x)\n",
        "\n",
        "tbl_dis_val = app_train.apply(_count_unique).sort_values(ascending = False)\n",
        "tbl_dis_val[tbl_dis_val > 500]"
      ]
    },
    {
      "cell_type": "code",
      "execution_count": null,
      "metadata": {
        "id": "IIxScXW-Zd2W"
      },
      "outputs": [],
      "source": [
        "\n",
        "cols_3sigma = tbl_dis_val[tbl_dis_val > 500].index.tolist()\n",
        "# Loại bỏ biến key là SK_ID_CURR ra khỏi danh sách:\n",
        "cols_3sigma = cols_3sigma[1:]"
      ]
    },
    {
      "cell_type": "code",
      "execution_count": null,
      "metadata": {
        "id": "AjAmBeToZho-"
      },
      "outputs": [],
      "source": [
        "# Loại bỏ các outlier bằng 3 sigma\n",
        "for col in cols_3sigma:\n",
        "    print(col)\n",
        "    app_train[col] = _zoom_3sigma(col, app_train, app_train) \n",
        "    print('------------------------\\n')"
      ]
    },
    {
      "cell_type": "code",
      "execution_count": null,
      "metadata": {
        "id": "biZkLd0xZ12K"
      },
      "outputs": [],
      "source": [
        "for col in cols_3sigma:\n",
        "    print(col)\n",
        "    app_test[col] = _zoom_3sigma(col, app_train, app_test) \n",
        "    print('------------------------\\n')"
      ]
    },
    {
      "cell_type": "code",
      "execution_count": null,
      "metadata": {
        "id": "wscvV8UbZ45K"
      },
      "outputs": [],
      "source": [
        "# Kiểm tra lại biến AMT_INCOME_TOTAL sau khi loại bỏ outlier\n",
        "app_train['AMT_INCOME_TOTAL'].describe().plot.box()"
      ]
    },
    {
      "cell_type": "code",
      "execution_count": null,
      "metadata": {
        "id": "Q-EHZMFVZ-SS"
      },
      "outputs": [],
      "source": [
        "_plot_density('AMT_INCOME_TOTAL')"
      ]
    },
    {
      "cell_type": "markdown",
      "metadata": {
        "id": "ZKvx1EyqaF2t"
      },
      "source": [
        "Xử lý data missing"
      ]
    },
    {
      "cell_type": "code",
      "execution_count": null,
      "metadata": {
        "id": "-3rwnKYxaJ4d"
      },
      "outputs": [],
      "source": [
        "from sklearn.preprocessing import MinMaxScaler\n",
        "from sklearn.impute import SimpleImputer\n",
        "\n",
        "\n",
        "if 'TARGET' in app_train.columns:\n",
        "    TARGET = app_train.pop('TARGET')\n",
        "\n",
        "# Gán train và test vào app_train và app_test; train, test được sử dụng để scale dữ liệu\n",
        "train = app_train\n",
        "test = app_test\n",
        "\n",
        "# Khởi tạo inputer theo phương pháp trung bình\n",
        "inputer = SimpleImputer(strategy = 'mean')\n",
        "inputer.fit(train)\n",
        "\n",
        "# Điền các giá trị NA bằng trung bình\n",
        "train = inputer.transform(train)\n",
        "test = inputer.transform(test)\n",
        "\n",
        "# Khởi tạo scaler theo phương pháp MinMaxScaler trong khoảng [-1, 1]\n",
        "scaler = MinMaxScaler(feature_range = (-1, 1))\n",
        "scaler.fit(train)\n",
        "\n",
        "# Scale dữ liệu trên train và test\n",
        "train = scaler.transform(train)\n",
        "test = scaler.transform(test)\n",
        "\n",
        "# Loại bỏ cột SK_ID_CURR đầu tiên do cột này là key. Khi cần lấy từ app_train và app_test sang\n",
        "train = train[:, 1:]\n",
        "test = test[:, 1:]\n",
        "\n",
        "print('train shape: ', train.shape)\n",
        "print('test shape: ', test.shape)"
      ]
    },
    {
      "cell_type": "markdown",
      "metadata": {
        "id": "NyCmYAUdank1"
      },
      "source": [
        "#Mô hình\n",
        "Đánh giá mức độ tương quan\n"
      ]
    },
    {
      "cell_type": "code",
      "execution_count": null,
      "metadata": {
        "id": "4SFpg2-8amOa"
      },
      "outputs": [],
      "source": [
        "app_train['TARGET'] = TARGET\n",
        "corr_tbl = app_train.corr()\n",
        "corr_tbl"
      ]
    },
    {
      "cell_type": "code",
      "execution_count": null,
      "metadata": {
        "id": "GsE3sSJpiJWi"
      },
      "outputs": [],
      "source": [
        "TARGET"
      ]
    },
    {
      "cell_type": "code",
      "execution_count": null,
      "metadata": {
        "id": "0M0L5UBDa7uh"
      },
      "outputs": [],
      "source": [
        "corr_tbl['TARGET'].sort_values()"
      ]
    },
    {
      "cell_type": "code",
      "execution_count": null,
      "metadata": {
        "id": "AWMyHA3rbCcN"
      },
      "outputs": [],
      "source": [
        "pd_train = pd.DataFrame(train, columns = app_train.columns[1:-1])\n",
        "pd_train['TARGET'] = TARGET\n",
        "pd_train.head()"
      ]
    },
    {
      "cell_type": "code",
      "execution_count": null,
      "metadata": {
        "id": "j1r-aFTRbEWR"
      },
      "outputs": [],
      "source": [
        "corr_tbl_train = pd_train.corr()\n",
        "corr_tbl_train"
      ]
    },
    {
      "cell_type": "code",
      "execution_count": null,
      "metadata": {
        "id": "mwg3lQH_bNwh"
      },
      "outputs": [],
      "source": [
        "corr_tbl_train['TARGET'].sort_values()"
      ]
    },
    {
      "cell_type": "code",
      "execution_count": null,
      "metadata": {
        "id": "6d1zcl8KbRLB"
      },
      "outputs": [],
      "source": [
        "# Lấy ra danh sách 15 biến có tương quan lớn nhất tới biến mục tiêu theo trị tuyệt đối.\n",
        "cols_corr_15 = np.abs(corr_tbl_train['TARGET']).sort_values()[-16:].index.tolist()\n",
        "\n",
        "# Tính ma trận hệ số tương quan\n",
        "cols_tbl_15 = pd_train[cols_corr_15].corr()\n",
        "\n",
        "# Biểu diễn trên biểu đồ heatmap\n",
        "plt.figure(figsize = (13, 10))\n",
        "sns.heatmap(cols_tbl_15, cmap = plt.cm.RdYlBu_r, annot = True)\n",
        "# plt.imsave('image.png')"
      ]
    },
    {
      "cell_type": "code",
      "execution_count": null,
      "metadata": {
        "id": "mlkJRdOBmafa"
      },
      "outputs": [],
      "source": []
    },
    {
      "cell_type": "code",
      "execution_count": null,
      "metadata": {
        "id": "WbiYBvxYbVhq"
      },
      "outputs": [],
      "source": [
        "plt.figure(figsize = (20, 5))\n",
        "for i in range(5):\n",
        "    _plot_density(cols_corr_15[i])"
      ]
    },
    {
      "cell_type": "code",
      "execution_count": null,
      "metadata": {
        "id": "OVWgpecNboxI"
      },
      "outputs": [],
      "source": [
        "age_bin = app_train[['TARGET', 'DAYS_BIRTH']]\n",
        "age_bin['YEAR_OLD'] = -app_train['DAYS_BIRTH']/365\n",
        "\n",
        "# Phân chia khoảng tuổi thanh 10 khoảng bằng nhau\n",
        "age_bin['DAYS_BIN'] = pd.cut(age_bin['YEAR_OLD'], bins = np.linspace(20, 70, num = 11))\n",
        "age_bin.head()"
      ]
    },
    {
      "cell_type": "markdown",
      "metadata": {
        "id": "OOqw5RCSbrak"
      },
      "source": [
        "Thống kê số lượng không trả nợ theo khoảng độ tuổi"
      ]
    },
    {
      "cell_type": "code",
      "execution_count": null,
      "metadata": {
        "id": "ZoCX-r5tbxDv"
      },
      "outputs": [],
      "source": [
        "age_bin.groupby(['DAYS_BIN']).mean()"
      ]
    },
    {
      "cell_type": "code",
      "execution_count": null,
      "metadata": {
        "id": "P-b_0BPDb2zr"
      },
      "outputs": [],
      "source": [
        "plt.figure(figsize = (8, 6))\n",
        "age_bin.groupby(['DAYS_BIN']).mean()['TARGET'].plot.barh(color = 'b')\n",
        "plt.xticks(rotation = '75')\n",
        "plt.xlabel('Not Repaid rate')\n"
      ]
    },
    {
      "cell_type": "code",
      "execution_count": null,
      "metadata": {
        "id": "Kg04XXtDhTqH"
      },
      "outputs": [],
      "source": [
        "from sklearn.preprocessing import PolynomialFeatures,MinMaxScaler\n",
        "from sklearn.impute import SimpleImputer\n",
        "# Khởi tạo các preprocessing. Trong đó inputer theo mean, minmax scaler theo khoảng 0, 1 và polynomial features bậc 3.\n",
        "inputer = SimpleImputer(strategy = 'mean')\n",
        "minmax_scaler = MinMaxScaler(feature_range = (0, 1))\n",
        "poly_engineer = PolynomialFeatures(degree = 3)\n",
        "\n",
        "# Lấy các feature có tương quan lớn nhất đến biến mục tiêu từ app_train và app_test\n",
        "TARGET = app_train[cols_corr_15[-1]]\n",
        "train_poly_fea = app_train[cols_corr_15[:-1]]\n",
        "test_poly_fea = app_test[cols_corr_15[:-1]]\n",
        "\n",
        "# input dữ liệu missing\n",
        "inputer = inputer.fit(train_poly_fea)\n",
        "train_poly_fea = inputer.transform(train_poly_fea)\n",
        "test_poly_fea = inputer.transform(test_poly_fea)\n",
        "\n",
        "# Minmax scaler dữ liệu\n",
        "minmax_scaler = minmax_scaler.fit(train_poly_fea)\n",
        "train_poly_fea = minmax_scaler.transform(train_poly_fea)\n",
        "test_poly_fea = minmax_scaler.transform(test_poly_fea)\n",
        "\n",
        "print('train_poly_fea shape: ', train_poly_fea.shape)\n",
        "print('test_poly_fea shape: ', test_poly_fea.shape)"
      ]
    },
    {
      "cell_type": "code",
      "execution_count": null,
      "metadata": {
        "id": "1Egn_JMyhVyX"
      },
      "outputs": [],
      "source": [
        "# Polynormial features dữ liệu\n",
        "poly_engineer = poly_engineer.fit(train_poly_fea)\n",
        "train_poly_fea = poly_engineer.transform(train_poly_fea)\n",
        "test_poly_fea = poly_engineer.transform(test_poly_fea)\n",
        "\n",
        "print('train_poly_fea shape: ', train_poly_fea.shape)\n",
        "print('test_poly_fea shape: ', test_poly_fea.shape)"
      ]
    },
    {
      "cell_type": "code",
      "execution_count": null,
      "metadata": {
        "id": "ryrUI49ihoAA"
      },
      "outputs": [],
      "source": [
        "features = poly_engineer.get_feature_names(input_features = cols_corr_15[:-1])\n",
        "features[:10]"
      ]
    },
    {
      "cell_type": "code",
      "execution_count": null,
      "metadata": {
        "id": "5pWD0ZoXfra0"
      },
      "outputs": [],
      "source": [
        "# Deep learning với Keras\n",
        "from keras.layers import Input, Dense, Concatenate, concatenate, Dropout, Lambda\n",
        "from keras.models import Model\n",
        "from keras.layers.embeddings import Embedding"
      ]
    },
    {
      "cell_type": "code",
      "execution_count": null,
      "metadata": {
        "id": "OytwAppRgKKv"
      },
      "outputs": [],
      "source": [
        "# design neural network\n",
        "input_els = []\n",
        "encode_els = []\n",
        "\n",
        "# Generate a list include many Input layers\n",
        "\n",
        "for i in range(train.shape[1]):\n",
        "    # input alway have the shape (*, 1)\n",
        "    input_els.append(Input(shape = (1,)))\n",
        "    encode_els.append(input_els[-1])\n",
        "# encode_els"
      ]
    },
    {
      "cell_type": "code",
      "execution_count": null,
      "metadata": {
        "id": "Xiq0Nd4OgPXq"
      },
      "outputs": [],
      "source": [
        "# concate nate all layers\n",
        "encode_els = concatenate(encode_els) \n",
        "\n",
        "# After completed the input layers, we design the hidden layers\n",
        "hidden1 = Dense(units = 128, kernel_initializer = 'normal', activation = 'relu')(encode_els)\n",
        "droplayer1 = Dropout(0.2)(hidden1)\n",
        "hidden2 = Dense(64, kernel_initializer = 'normal', activation = 'relu')(droplayer1)\n",
        "droplayer2 = Dropout(0.2)(hidden2)\n",
        "outputlayer = Dense(1, kernel_initializer = 'normal', activation = 'sigmoid')(droplayer2)\n",
        "\n",
        "classifier = Model(inputs=input_els, outputs=[outputlayer])"
      ]
    },
    {
      "cell_type": "code",
      "execution_count": null,
      "metadata": {
        "id": "OEZ1jyEDwzcT"
      },
      "outputs": [],
      "source": [
        "from numpy import savetxt"
      ]
    },
    {
      "cell_type": "code",
      "execution_count": null,
      "metadata": {
        "id": "_KR2Q3o8gbIO"
      },
      "outputs": [],
      "source": [
        "classifier.compile(optimizer='SGD', loss='binary_crossentropy', metrics=['accuracy'])\n",
        "classifier.summary()"
      ]
    },
    {
      "cell_type": "code",
      "execution_count": null,
      "metadata": {
        "id": "wGOTmmafV7AZ"
      },
      "outputs": [],
      "source": [
        "train.shape"
      ]
    },
    {
      "cell_type": "code",
      "execution_count": null,
      "metadata": {
        "colab": {
          "base_uri": "https://localhost:8080/"
        },
        "id": "1h_63hzhgfT-",
        "outputId": "00c33670-aad3-4dd9-b1c3-ef211c7de75f"
      },
      "outputs": [
        {
          "name": "stdout",
          "output_type": "stream",
          "text": [
            "Epoch 1/5\n",
            "2163/2163 [==============================] - 19s 8ms/step - loss: 0.2861 - accuracy: 0.9178 - val_loss: 0.2681 - val_accuracy: 0.9194\n",
            "Epoch 2/5\n",
            "2163/2163 [==============================] - 17s 8ms/step - loss: 0.2683 - accuracy: 0.9193 - val_loss: 0.2609 - val_accuracy: 0.9194\n",
            "Epoch 3/5\n",
            "2163/2163 [==============================] - 19s 9ms/step - loss: 0.2629 - accuracy: 0.9193 - val_loss: 0.2563 - val_accuracy: 0.9194\n",
            "Epoch 4/5\n",
            "2163/2163 [==============================] - 18s 8ms/step - loss: 0.2593 - accuracy: 0.9193 - val_loss: 0.2539 - val_accuracy: 0.9194\n",
            "Epoch 5/5\n",
            "2163/2163 [==============================] - 19s 9ms/step - loss: 0.2576 - accuracy: 0.9193 - val_loss: 0.2524 - val_accuracy: 0.9194\n"
          ]
        }
      ],
      "source": [
        "# split train/valid\n",
        "from sklearn.model_selection import KFold\n",
        "count = 0\n",
        "kfold = KFold(n_splits = 10, shuffle = True, random_state = 12)\n",
        "valid_scores = []\n",
        "train_scores = []\n",
        "for train_idx, valid_idx in kfold.split(train_poly_fea):\n",
        "    while count < 1:\n",
        "        count += 1\n",
        "        # Split train, valid\n",
        "        train_features, train_labels = train[train_idx], TARGET[train_idx]\n",
        "        valid_features, valid_labels = train[valid_idx], TARGET[valid_idx]\n",
        "        # for i in range(train.shape[1]):\n",
        "        #     print(train_features[:, 1].shape)\n",
        "        # k = np.array([train_features[:, i] for i in range(train.shape[1])])\n",
        "        classifier.fit(\n",
        "            [train_features[:, i] for i in range(train.shape[1])], #lấy list toàn bộ các cột\n",
        "            train_labels,\n",
        "            epochs=5,\n",
        "            batch_size=128,\n",
        "            shuffle=True,\n",
        "            validation_data=([valid_features[:, i] for i in range(train.shape[1])], valid_labels) \n",
        "        )"
      ]
    },
    {
      "cell_type": "code",
      "execution_count": null,
      "metadata": {
        "colab": {
          "base_uri": "https://localhost:8080/"
        },
        "id": "xdn05uPKgg0R",
        "outputId": "d44f2b9e-a2c2-4178-bc3a-386e255d3dba"
      },
      "outputs": [
        {
          "data": {
            "text/plain": [
              "array([[0.3146736 ],\n",
              "       [0.02137396],\n",
              "       [0.0388568 ],\n",
              "       ...,\n",
              "       [0.04569182],\n",
              "       [0.09203812],\n",
              "       [0.0570989 ]], dtype=float32)"
            ]
          },
          "execution_count": 309,
          "metadata": {},
          "output_type": "execute_result"
        }
      ],
      "source": [
        "# Dự báo trên tập train.\n",
        "train_prob_nn = classifier.predict([train[:, i] for i in range(train.shape[1])])\n",
        "train_prob_nn"
      ]
    },
    {
      "cell_type": "code",
      "execution_count": null,
      "metadata": {
        "colab": {
          "base_uri": "https://localhost:8080/",
          "height": 1000
        },
        "id": "vzAcEjf_gilW",
        "outputId": "b48e885e-e278-425d-c6ae-c31aa92f92fa"
      },
      "outputs": [
        {
          "data": {
            "image/png": "[encoded data removed]",
            "text/plain": [
              "<Figure size 720x576 with 1 Axes>"
            ]
          },
          "execution_count": 310,
          "metadata": {},
          "output_type": "execute_result"
        },
        {
          "data": {
            "image/png": "[encoded data removed]",
            "text/plain": [
              "<Figure size 720x576 with 1 Axes>"
            ]
          },
          "metadata": {
            "needs_background": "light"
          },
          "output_type": "display_data"
        }
      ],
      "source": [
        "from sklearn.metrics import roc_curve\n",
        "\n",
        "\n",
        "def _plot_roc_curve(fpr, tpr, thres):\n",
        "    roc = plt.figure(figsize = (10, 8))\n",
        "    plt.plot(fpr, tpr, 'b-', label = 'ROC')\n",
        "    plt.plot([0, 1], [0, 1], '--')\n",
        "    plt.axis([0, 1, 0, 1])\n",
        "    plt.xlabel('False Positive Rate')\n",
        "    plt.ylabel('True Positive Rate')\n",
        "    plt.title('ROC Curve')\n",
        "    return roc\n",
        "\n",
        "fpr4, tpr4, thres4 = roc_curve(TARGET, train_prob_nn)\n",
        "_plot_roc_curve(fpr4, tpr4, thres4)"
      ]
    },
    {
      "cell_type": "code",
      "execution_count": null,
      "metadata": {
        "colab": {
          "base_uri": "https://localhost:8080/"
        },
        "id": "1kf261rNgkXW",
        "outputId": "db678ea9-1be8-4fa1-e20d-d21181be060e"
      },
      "outputs": [
        {
          "data": {
            "text/plain": [
              "0.7364786745511243"
            ]
          },
          "execution_count": 311,
          "metadata": {},
          "output_type": "execute_result"
        }
      ],
      "source": [
        "from sklearn.metrics import auc, precision_recall_curve, accuracy_score\n",
        "\n",
        "auc(fpr4, tpr4)"
      ]
    },
    {
      "cell_type": "code",
      "execution_count": null,
      "metadata": {
        "id": "r7JcNEFSitNU"
      },
      "outputs": [],
      "source": [
        "def _plot_prec_rec_curve(prec, rec, thres):\n",
        "    plot_pr = plt.figure(figsize = (10, 8))\n",
        "    plt.plot(thres, prec[:-1], 'b--', label = 'Precision')\n",
        "    plt.plot(thres, rec[:-1], 'g-', label = 'Recall')\n",
        "    plt.xlabel('Threshold')\n",
        "    plt.ylabel('Probability')\n",
        "    plt.title('Precsion vs Recall Curve')\n",
        "    return plot_pr"
      ]
    },
    {
      "cell_type": "code",
      "execution_count": null,
      "metadata": {
        "colab": {
          "base_uri": "https://localhost:8080/",
          "height": 1000
        },
        "id": "LF8jCtE8glm6",
        "outputId": "6be6ff0e-9f8a-4aa9-b712-1e6f1c1b6dbe"
      },
      "outputs": [
        {
          "data": {
            "image/png": "[encoded data removed]",
            "text/plain": [
              "<Figure size 720x576 with 1 Axes>"
            ]
          },
          "execution_count": 313,
          "metadata": {},
          "output_type": "execute_result"
        },
        {
          "data": {
            "image/png": "[encoded data removed]",
            "text/plain": [
              "<Figure size 720x576 with 1 Axes>"
            ]
          },
          "metadata": {
            "needs_background": "light"
          },
          "output_type": "display_data"
        }
      ],
      "source": [
        "prec, rec, thres = precision_recall_curve(TARGET, train_prob_nn)\n",
        "_plot_prec_rec_curve(prec, rec, thres)"
      ]
    },
    {
      "cell_type": "code",
      "execution_count": null,
      "metadata": {
        "id": "fF-65BsbrLnU"
      },
      "outputs": [],
      "source": [
        "y_pred = (train_prob_nn >= 0.5)\n",
        "y_test = TARGET"
      ]
    },
    {
      "cell_type": "code",
      "execution_count": null,
      "metadata": {
        "colab": {
          "base_uri": "https://localhost:8080/"
        },
        "id": "lZcJZyyHDv0h",
        "outputId": "64f2f12d-4bdc-489c-ed82-61968bd8c3eb"
      },
      "outputs": [
        {
          "name": "stderr",
          "output_type": "stream",
          "text": [
            "/usr/local/lib/python3.7/dist-packages/sklearn/metrics/_classification.py:1308: UndefinedMetricWarning: Precision and F-score are ill-defined and being set to 0.0 in labels with no predicted samples. Use `zero_division` parameter to control this behavior.\n",
            "  _warn_prf(average, modifier, msg_start, len(result))\n",
            "/usr/local/lib/python3.7/dist-packages/sklearn/metrics/_classification.py:1308: UndefinedMetricWarning: Precision and F-score are ill-defined and being set to 0.0 in labels with no predicted samples. Use `zero_division` parameter to control this behavior.\n",
            "  _warn_prf(average, modifier, msg_start, len(result))\n",
            "/usr/local/lib/python3.7/dist-packages/sklearn/metrics/_classification.py:1308: UndefinedMetricWarning: Precision and F-score are ill-defined and being set to 0.0 in labels with no predicted samples. Use `zero_division` parameter to control this behavior.\n",
            "  _warn_prf(average, modifier, msg_start, len(result))\n"
          ]
        }
      ],
      "source": [
        "from sklearn.metrics import classification_report\n",
        "report = classification_report(y_test, y_pred, output_dict=True)"
      ]
    },
    {
      "cell_type": "code",
      "execution_count": null,
      "metadata": {
        "colab": {
          "base_uri": "https://localhost:8080/",
          "height": 613
        },
        "id": "22Tt6gjIrP1r",
        "outputId": "ee270822-1bbc-4dad-d1ab-6c512a9d89c6"
      },
      "outputs": [
        {
          "data": {
            "text/plain": [
              "<matplotlib.axes._subplots.AxesSubplot at 0x7fe1613bf850>"
            ]
          },
          "execution_count": 316,
          "metadata": {},
          "output_type": "execute_result"
        },
        {
          "data": {
            "image/png": "[encoded data removed]",
            "text/plain": [
              "<Figure size 720x720 with 2 Axes>"
            ]
          },
          "metadata": {
            "needs_background": "light"
          },
          "output_type": "display_data"
        }
      ],
      "source": [
        "fig, ax = plt.subplots(figsize=(10,10))   \n",
        "sns.heatmap(pd.DataFrame(report).iloc[:-1, :].T, annot=True, linewidths=.5, ax=ax)"
      ]
    }
  ],
  "metadata": {
    "colab": {
      "collapsed_sections": [],
      "name": "HomeCredit.ipynb",
      "provenance": []
    },
    "kernelspec": {
      "display_name": "Python 3",
      "name": "python3"
    },
    "language_info": {
      "name": "python"
    }
  },
  "nbformat": 4,
  "nbformat_minor": 0
}
